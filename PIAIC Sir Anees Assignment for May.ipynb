{
 "cells": [
  {
   "cell_type": "code",
   "execution_count": 2,
   "metadata": {},
   "outputs": [
    {
     "name": "stdout",
     "output_type": "stream",
     "text": [
      "Enter the radius of the Circle 32\n",
      "3217.408\n"
     ]
    }
   ],
   "source": [
    "#Calculating thr Area for the Given radius of Circle \n",
    "radius=float(input(\"Enter the radius of the Circle \"))\n",
    "Area=3.142*(radius)**2\n",
    "print(Area)"
   ]
  },
  {
   "cell_type": "code",
   "execution_count": 36,
   "metadata": {},
   "outputs": [
    {
     "name": "stdout",
     "output_type": "stream",
     "text": [
      "Enter the numerator4\n",
      "Enter the denominator2\n",
      " It is Divisible\n"
     ]
    }
   ],
   "source": [
    "#Checking the divisibility of a number\n",
    "number=int(input(\"Enter the numerator\"))\n",
    "denominator=int(input(\"Enter the denominator\"))\n",
    "if number%denominator==0:\n",
    "    print(\" It is Divisible\")\n",
    "else:\n",
    "    print(\"It is Not divisible\")"
   ]
  },
  {
   "cell_type": "code",
   "execution_count": 5,
   "metadata": {},
   "outputs": [
    {
     "name": "stdout",
     "output_type": "stream",
     "text": [
      "Enter the number545\n",
      "It is Odd\n"
     ]
    }
   ],
   "source": [
    "#Checking if a number is even or odd\n",
    "number=int(input(\"Enter the number\"))\n",
    "if number%2==0:\n",
    "    print(\"It is an Even Number\")\n",
    "else:\n",
    "    print(\"It is an Odd Number\")\n",
    "    "
   ]
  },
  {
   "cell_type": "code",
   "execution_count": 6,
   "metadata": {},
   "outputs": [
    {
     "name": "stdout",
     "output_type": "stream",
     "text": [
      "Enter the radius454\n",
      "392023837.7173333\n"
     ]
    }
   ],
   "source": [
    "#Calculating volume of sphere\n",
    "radius=float(input(\"Enter the radius of sphere\"))\n",
    "Volume=(4/3)*3.142*(radius)**3\n",
    "print(Volume)\n"
   ]
  },
  {
   "cell_type": "code",
   "execution_count": 40,
   "metadata": {},
   "outputs": [
    {
     "name": "stdout",
     "output_type": "stream",
     "text": [
      "Enter the alphabet , Only in lower casei\n",
      "Not vowel\n"
     ]
    }
   ],
   "source": [
    "#Checking if the entered value is vovel or not\n",
    "vowel=['a','e','i','o','u']\n",
    "alpha=input(\"Enter the alphabet , Only in lower case\")\n",
    "for b in vowel:\n",
    "    if alpha==b:\n",
    "        print('Vowel')\n",
    "    else:\n",
    "        print('Not vowel')\n",
    "    break\n",
    "        "
   ]
  },
  {
   "cell_type": "code",
   "execution_count": 28,
   "metadata": {},
   "outputs": [
    {
     "name": "stdout",
     "output_type": "stream",
     "text": [
      "Enter x132\n",
      "Enter x223\n",
      "Enter y132\n",
      "Enter y232\n",
      "9.0\n"
     ]
    }
   ],
   "source": [
    "#Calculating Eucleadian distance (also known as distance formula)\n",
    "import math\n",
    "x1=int(input(\"Enter x1\"))\n",
    "x2=int(input('Enter x2'))\n",
    "y1=int(input('Enter y1'))\n",
    "y2=int(input('Enter y2'))\n",
    "distance1=((x2-x1)**2)+((y2-y1)**2)\n",
    "distance=math.sqrt(distance1)\n",
    "print(distance)"
   ]
  },
  {
   "cell_type": "code",
   "execution_count": 29,
   "metadata": {
    "scrolled": true
   },
   "outputs": [
    {
     "name": "stdout",
     "output_type": "stream",
     "text": [
      "Enter the height5\n",
      "Enter the base2\n",
      "5.0\n"
     ]
    }
   ],
   "source": [
    "#Calculatte the area of the Triangle by given parameters\n",
    "X=int(input(\"Enter the height\"))\n",
    "Y=int(input(\"Enter the base\"))\n",
    "area=(1/2)*(X)*(Y)\n",
    "print(area)"
   ]
  },
  {
   "cell_type": "code",
   "execution_count": 27,
   "metadata": {},
   "outputs": [
    {
     "name": "stdout",
     "output_type": "stream",
     "text": [
      "Enter the number52\n",
      "Positive\n"
     ]
    }
   ],
   "source": [
    "#Checking positive,negative or zero of a number\n",
    "number=float(input(\"Enter the number\"))\n",
    "if number>0:\n",
    "    print(\"Positive\")\n",
    "elif number<0:\n",
    "    print(\"Negative\")\n",
    "elif number==0:\n",
    "    print(\"zero\")\n"
   ]
  },
  {
   "cell_type": "code",
   "execution_count": 9,
   "metadata": {},
   "outputs": [
    {
     "name": "stdout",
     "output_type": "stream",
     "text": [
      "Enter any decimal number: 2\n",
      "10"
     ]
    }
   ],
   "source": [
    "#Decimal to binary conversion\n",
    "def decimalToBinary(num):\n",
    "    if num > 1:\n",
    "        decimalToBinary(num//2)\n",
    "    print(num % 2, end='')\n",
    "\n",
    "number = int(input(\"Enter any decimal number: \"))\n",
    "decimalToBinary(number)"
   ]
  },
  {
   "cell_type": "code",
   "execution_count": 10,
   "metadata": {},
   "outputs": [
    {
     "name": "stdout",
     "output_type": "stream",
     "text": [
      "Enter principal (Orignal) ammount42\n",
      "Enter intrest rate in %42\n",
      "Enter the time in Years4\n",
      "112.56\n"
     ]
    }
   ],
   "source": [
    "#Calculating future value \n",
    "Principle=int(input('Enter principal (Orignal) ammount'))\n",
    "R=float(input('Enter intrest rate in %'))\n",
    "T=int(input('Enter the time in Years'))\n",
    "Interest=Principle*T*(R/100)\n",
    "final=Interest+Principle\n",
    "print(final)"
   ]
  },
  {
   "cell_type": "code",
   "execution_count": 12,
   "metadata": {},
   "outputs": [
    {
     "name": "stdout",
     "output_type": "stream",
     "text": [
      "Enter the height2\n",
      "height in centimeter is 61.0\n"
     ]
    }
   ],
   "source": [
    "#Converting feet unit into the centimeter unit\n",
    "feet=float(input(\"Enter the height\"))\n",
    "cm=feet*30.5\n",
    "print('height in centimeter is',cm)"
   ]
  },
  {
   "cell_type": "code",
   "execution_count": 34,
   "metadata": {},
   "outputs": [
    {
     "name": "stdout",
     "output_type": "stream",
     "text": [
      "Enter your weight in kg72\n",
      "Enter your height in centimeters180\n",
      "The BMI is  536.6563145999495\n"
     ]
    }
   ],
   "source": [
    "#Calcuating the BMI\n",
    "weight=float(input('Enter your weight in kg'))\n",
    "height=float(input('Enter your height in centimeters'))\n",
    "#height1 = math.sqrt(height)\n",
    "height2= height1/100\n",
    "BMI=(weight/(height*height)\n",
    "print('The BMI is ',BMI)"
   ]
  },
  {
   "cell_type": "code",
   "execution_count": 35,
   "metadata": {},
   "outputs": [
    {
     "name": "stdout",
     "output_type": "stream",
     "text": [
      "Please Enter any Number: 444\n",
      "\n",
      " Sum of the digits of Given Number = 12\n"
     ]
    }
   ],
   "source": [
    "# Python Program to find Sum of Digits of a Number using While Loop\n",
    "\n",
    "Number = int(input(\"Please Enter any Number: \"))\n",
    "Sum = 0\n",
    "\n",
    "while(Number > 0):\n",
    "    Reminder = Number % 10\n",
    "    Sum = Sum + Reminder\n",
    "    Number = Number //10\n",
    "\n",
    "print(\"\\n Sum of the digits of Given Number = %d\" %Sum)"
   ]
  },
  {
   "cell_type": "code",
   "execution_count": 14,
   "metadata": {},
   "outputs": [
    {
     "name": "stdout",
     "output_type": "stream",
     "text": [
      "Enter the integer42\n",
      "sum is  903.0\n"
     ]
    }
   ],
   "source": [
    "#Sum of n positive integers\n",
    "n=int(input('Enter the integer Value '))\n",
    "total=(n/2)*(2+(n-1))\n",
    "print(\"sum is \",total)"
   ]
  },
  {
   "cell_type": "code",
   "execution_count": 18,
   "metadata": {},
   "outputs": [
    {
     "name": "stdout",
     "output_type": "stream",
     "text": [
      "Enter the phrase12\n",
      "How many times to repeat the Phrase?12\n",
      "121212121212121212121212\n"
     ]
    }
   ],
   "source": [
    "#Printing a string n times\n",
    "str=input('Enter the phrase')\n",
    "number=int(input('How many times to repeat the Phrase?' ))\n",
    "print(str*number)"
   ]
  },
  {
   "cell_type": "code",
   "execution_count": 21,
   "metadata": {
    "scrolled": true
   },
   "outputs": [
    {
     "name": "stdout",
     "output_type": "stream",
     "text": [
      "\n",
      "* \n",
      "* * \n",
      "* * * \n",
      "* * * * \n",
      "* * * * * \n",
      "* * * * * * \n",
      "* * * * * * * \n",
      "* * * * * * * * \n",
      "* * * * * * * * * \n",
      "* * * * * * * * * * \n",
      "* * * * * * * * * \n",
      "* * * * * * * * \n",
      "* * * * * * * \n",
      "* * * * * * \n",
      "* * * * * \n",
      "* * * * \n",
      "* * * \n",
      "* * \n",
      "* \n"
     ]
    }
   ],
   "source": [
    "#Writing a pattern\n",
    "n=10;\n",
    "for i in range(n):\n",
    "    for j in range(i):\n",
    "        print ('* ', end=\"\")\n",
    "    print('')\n",
    "\n",
    "for i in range(n,0,-1):\n",
    "    for j in range(i):\n",
    "        print('* ', end=\"\")\n",
    "    print('')\n"
   ]
  },
  {
   "cell_type": "code",
   "execution_count": null,
   "metadata": {},
   "outputs": [],
   "source": []
  }
 ],
 "metadata": {
  "kernelspec": {
   "display_name": "Python 3",
   "language": "python",
   "name": "python3"
  },
  "language_info": {
   "codemirror_mode": {
    "name": "ipython",
    "version": 3
   },
   "file_extension": ".py",
   "mimetype": "text/x-python",
   "name": "python",
   "nbconvert_exporter": "python",
   "pygments_lexer": "ipython3",
   "version": "3.7.3"
  }
 },
 "nbformat": 4,
 "nbformat_minor": 2
}
