{
 "cells": [
  {
   "cell_type": "code",
   "execution_count": 2,
   "metadata": {},
   "outputs": [
    {
     "name": "stdin",
     "output_type": "stream",
     "text": [
      " 200\n",
      " 200\n",
      " 200\n",
      " 200\n"
     ]
    },
    {
     "name": "stdout",
     "output_type": "stream",
     "text": [
      "Name  is          Ashhad\n",
      "Class  is        HSC P2\n",
      "Roll_Number is     6515M\n",
      "English =          200\n",
      "Urdu =             200\n",
      "Islamiat =         200\n",
      "Science =          200\n"
     ]
    }
   ],
   "source": [
    "p = int(input())\n",
    "q = int(input())\n",
    "s = int(input())\n",
    "t = int(input())\n",
    "marksheet = {\"English =         \" :    p , \"Urdu =            \" :     q , \"Islamiat =        \" :     s , \"Science =         \" :    t}\n",
    "Info = {\"Name  is \" : \"        Ashhad\" , \"Class  is \" : \"      HSC P2\" , \"Roll_Number is\" : \"    6515M\"}\n",
    "for key1, Value1 in Info.items():\n",
    "    print (key1,Value1)\n",
    "for key, value in marksheet.items():\n",
    "    print (key,value)\n",
    "import json\n",
    "with open (\"Marksheet.json\" , \"w\") as f:\n",
    "    json.dump(marksheet,f)\n",
    "\n",
    "with open('Marksheet.json', 'a') as f:\n",
    "    json.dump(Info, f)"
   ]
  },
  {
   "cell_type": "code",
   "execution_count": null,
   "metadata": {},
   "outputs": [],
   "source": []
  }
 ],
 "metadata": {
  "kernelspec": {
   "display_name": "Python 3",
   "language": "python",
   "name": "python3"
  },
  "language_info": {
   "codemirror_mode": {
    "name": "ipython",
    "version": 3
   },
   "file_extension": ".py",
   "mimetype": "text/x-python",
   "name": "python",
   "nbconvert_exporter": "python",
   "pygments_lexer": "ipython3",
   "version": "3.7.3"
  }
 },
 "nbformat": 4,
 "nbformat_minor": 2
}
